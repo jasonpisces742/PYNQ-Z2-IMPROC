{
 "cells": [
  {
   "cell_type": "code",
   "execution_count": null,
   "metadata": {},
   "outputs": [],
   "source": [
    "#TEST 1 NFRAMES = 1 T = 95.59836268424988\n",
    "#TEST 2 NFRAMES = 5 T = 96"
   ]
  },
  {
   "cell_type": "code",
   "execution_count": 1,
   "metadata": {},
   "outputs": [
    {
     "data": {
      "application/javascript": [
       "\n",
       "require(['notebook/js/codecell'], function(codecell) {\n",
       "  codecell.CodeCell.options_default.highlight_modes[\n",
       "      'magic_text/x-csrc'] = {'reg':[/^%%microblaze/]};\n",
       "  Jupyter.notebook.events.one('kernel_ready.Kernel', function(){\n",
       "      Jupyter.notebook.get_cells().map(function(cell){\n",
       "          if (cell.cell_type == 'code'){ cell.auto_highlight(); } }) ;\n",
       "  });\n",
       "});\n"
      ]
     },
     "metadata": {},
     "output_type": "display_data"
    }
   ],
   "source": [
    "from pynq import Overlay\n",
    "import pynq.lib.dma\n",
    "import random\n",
    "import numpy as np\n",
    "import cv2\n",
    "import time\n",
    "import matplotlib.pyplot as plt\n",
    "from pynq import Xlnk\n",
    "\n",
    "\n",
    "ol = Overlay('dmaFinal.bit')\n",
    "dma = ol.axi_dma_0\n",
    "xlnk = Xlnk()\n",
    "in_buffer = xlnk.cma_array(shape=(720, 1280), dtype=np.uint8,cacheable=1)\n",
    "out_buffer = xlnk.cma_array(shape=(720, 1280), dtype=np.uint8,cacheable=1)\n",
    "vid = cv2.VideoCapture('video.mp4')\n",
    "fourcc = cv2.VideoWriter_fourcc(*'MP4V')\n",
    "out = cv2.VideoWriter('output.mp4',fourcc, 20.0, (1280,720))\n",
    "dma.sendchannel.start()\n",
    "dma.recvchannel.start()\n",
    "\n"
   ]
  },
  {
   "cell_type": "code",
   "execution_count": 3,
   "metadata": {},
   "outputs": [
    {
     "name": "stdout",
     "output_type": "stream",
     "text": [
      "0\n",
      "True\n",
      "0.15781259536743164\n",
      "0.15432047843933105\n",
      "0.15506982803344727\n",
      "0.15439224243164062\n",
      "0.15195870399475098\n",
      "0.1545875072479248\n",
      "0.15417909622192383\n",
      "0.17446637153625488\n",
      "0.1537613868713379\n",
      "0.15387535095214844\n",
      "0.15419220924377441\n",
      "0.15432310104370117\n",
      "0.15489625930786133\n",
      "0.15432047843933105\n",
      "0.15537166595458984\n",
      "0.166975736618042\n",
      "0.15500521659851074\n",
      "0.1544198989868164\n",
      "0.1555769443511963\n",
      "0.15456843376159668\n",
      "0.1548318862915039\n",
      "0.1541748046875\n",
      "0.1548929214477539\n",
      "0.15431761741638184\n",
      "0.15490317344665527\n",
      "0.15465784072875977\n",
      "0.1548171043395996\n",
      "0.15444207191467285\n",
      "0.15504813194274902\n",
      "0.1587209701538086\n",
      "0.16069531440734863\n",
      "0.15837574005126953\n",
      "0.15481209754943848\n",
      "0.1544039249420166\n",
      "0.15618252754211426\n",
      "0.15841293334960938\n",
      "0.155350923538208\n",
      "0.15481901168823242\n",
      "0.15574407577514648\n",
      "0.15933799743652344\n",
      "0.15595054626464844\n",
      "0.1595597267150879\n",
      "0.1560382843017578\n",
      "0.16436004638671875\n",
      "0.15668416023254395\n",
      "0.16699528694152832\n",
      "0.15646839141845703\n",
      "0.16025996208190918\n",
      "0.15632319450378418\n",
      "0.15990447998046875\n",
      "0.15630149841308594\n",
      "0.16071486473083496\n",
      "0.1645665168762207\n",
      "0.17713665962219238\n",
      "0.15382647514343262\n",
      "0.15602827072143555\n",
      "0.15552353858947754\n",
      "0.15604233741760254\n",
      "0.1566774845123291\n",
      "0.16003918647766113\n",
      "0.15762734413146973\n",
      "0.16001367568969727\n",
      "0.15639019012451172\n",
      "0.1602308750152588\n",
      "0.15682530403137207\n",
      "0.15980815887451172\n",
      "0.15666913986206055\n",
      "0.16010355949401855\n",
      "0.15688419342041016\n",
      "0.15987539291381836\n",
      "0.15669584274291992\n",
      "0.15982675552368164\n",
      "0.1569356918334961\n",
      "0.1615142822265625\n",
      "0.15653491020202637\n",
      "0.16626405715942383\n",
      "0.15531468391418457\n",
      "0.15533733367919922\n",
      "0.15558767318725586\n",
      "0.1543750762939453\n",
      "0.1554884910583496\n",
      "0.15553689002990723\n",
      "0.15586113929748535\n",
      "0.1556408405303955\n",
      "0.15572047233581543\n",
      "0.15538763999938965\n",
      "0.15492463111877441\n",
      "0.15590381622314453\n",
      "0.15559816360473633\n",
      "0.15491271018981934\n",
      "0.1544806957244873\n"
     ]
    },
    {
     "ename": "KeyboardInterrupt",
     "evalue": "",
     "output_type": "error",
     "traceback": [
      "\u001b[0;31m---------------------------------------------------------------------------\u001b[0m",
      "\u001b[0;31mKeyboardInterrupt\u001b[0m                         Traceback (most recent call last)",
      "\u001b[0;32m<ipython-input-3-3a874e578217>\u001b[0m in \u001b[0;36m<module>\u001b[0;34m()\u001b[0m\n\u001b[1;32m     12\u001b[0m         \u001b[0mdma\u001b[0m\u001b[0;34m.\u001b[0m\u001b[0msendchannel\u001b[0m\u001b[0;34m.\u001b[0m\u001b[0mtransfer\u001b[0m\u001b[0;34m(\u001b[0m\u001b[0min_buffer\u001b[0m\u001b[0;34m)\u001b[0m\u001b[0;34m\u001b[0m\u001b[0m\n\u001b[1;32m     13\u001b[0m         \u001b[0mdma\u001b[0m\u001b[0;34m.\u001b[0m\u001b[0mrecvchannel\u001b[0m\u001b[0;34m.\u001b[0m\u001b[0mtransfer\u001b[0m\u001b[0;34m(\u001b[0m\u001b[0mout_buffer\u001b[0m\u001b[0;34m)\u001b[0m\u001b[0;34m\u001b[0m\u001b[0m\n\u001b[0;32m---> 14\u001b[0;31m         \u001b[0mdma\u001b[0m\u001b[0;34m.\u001b[0m\u001b[0mrecvchannel\u001b[0m\u001b[0;34m.\u001b[0m\u001b[0mwait\u001b[0m\u001b[0;34m(\u001b[0m\u001b[0;34m)\u001b[0m\u001b[0;34m\u001b[0m\u001b[0m\n\u001b[0m\u001b[1;32m     15\u001b[0m         \u001b[0mout\u001b[0m\u001b[0;34m.\u001b[0m\u001b[0mwrite\u001b[0m\u001b[0;34m(\u001b[0m\u001b[0mout_buffer\u001b[0m\u001b[0;34m)\u001b[0m\u001b[0;34m\u001b[0m\u001b[0m\n\u001b[1;32m     16\u001b[0m         \u001b[0mframes\u001b[0m \u001b[0;34m=\u001b[0m \u001b[0mframes\u001b[0m \u001b[0;34m+\u001b[0m \u001b[0;36m1\u001b[0m\u001b[0;34m\u001b[0m\u001b[0m\n",
      "\u001b[0;32m/usr/local/lib/python3.6/dist-packages/pynq/lib/dma.py\u001b[0m in \u001b[0;36mwait\u001b[0;34m(self)\u001b[0m\n\u001b[1;32m    134\u001b[0m         \u001b[0;32mif\u001b[0m \u001b[0;32mnot\u001b[0m \u001b[0mself\u001b[0m\u001b[0;34m.\u001b[0m\u001b[0mrunning\u001b[0m\u001b[0;34m:\u001b[0m\u001b[0;34m\u001b[0m\u001b[0m\n\u001b[1;32m    135\u001b[0m             \u001b[0;32mraise\u001b[0m \u001b[0mRuntimeError\u001b[0m\u001b[0;34m(\u001b[0m\u001b[0;34m'DMA channel not started'\u001b[0m\u001b[0;34m)\u001b[0m\u001b[0;34m\u001b[0m\u001b[0m\n\u001b[0;32m--> 136\u001b[0;31m         \u001b[0;32mwhile\u001b[0m \u001b[0;32mnot\u001b[0m \u001b[0mself\u001b[0m\u001b[0;34m.\u001b[0m\u001b[0midle\u001b[0m\u001b[0;34m:\u001b[0m\u001b[0;34m\u001b[0m\u001b[0m\n\u001b[0m\u001b[1;32m    137\u001b[0m             \u001b[0;32mpass\u001b[0m\u001b[0;34m\u001b[0m\u001b[0m\n\u001b[1;32m    138\u001b[0m         \u001b[0;32mif\u001b[0m \u001b[0;32mnot\u001b[0m \u001b[0mself\u001b[0m\u001b[0;34m.\u001b[0m\u001b[0m_flush_before\u001b[0m\u001b[0;34m:\u001b[0m\u001b[0;34m\u001b[0m\u001b[0m\n",
      "\u001b[0;32m/usr/local/lib/python3.6/dist-packages/pynq/lib/dma.py\u001b[0m in \u001b[0;36midle\u001b[0;34m(self)\u001b[0m\n\u001b[1;32m     77\u001b[0m \u001b[0;34m\u001b[0m\u001b[0m\n\u001b[1;32m     78\u001b[0m         \"\"\"\n\u001b[0;32m---> 79\u001b[0;31m         \u001b[0;32mreturn\u001b[0m \u001b[0mself\u001b[0m\u001b[0;34m.\u001b[0m\u001b[0m_mmio\u001b[0m\u001b[0;34m.\u001b[0m\u001b[0mread\u001b[0m\u001b[0;34m(\u001b[0m\u001b[0mself\u001b[0m\u001b[0;34m.\u001b[0m\u001b[0m_offset\u001b[0m \u001b[0;34m+\u001b[0m \u001b[0;36m4\u001b[0m\u001b[0;34m)\u001b[0m \u001b[0;34m&\u001b[0m \u001b[0;36m0x02\u001b[0m \u001b[0;34m==\u001b[0m \u001b[0;36m0x02\u001b[0m\u001b[0;34m\u001b[0m\u001b[0m\n\u001b[0m\u001b[1;32m     80\u001b[0m \u001b[0;34m\u001b[0m\u001b[0m\n\u001b[1;32m     81\u001b[0m     \u001b[0;32mdef\u001b[0m \u001b[0mstart\u001b[0m\u001b[0;34m(\u001b[0m\u001b[0mself\u001b[0m\u001b[0;34m)\u001b[0m\u001b[0;34m:\u001b[0m\u001b[0;34m\u001b[0m\u001b[0m\n",
      "\u001b[0;31mKeyboardInterrupt\u001b[0m: "
     ]
    }
   ],
   "source": [
    "frames = 0\n",
    "flag = 0\n",
    "dma.sendchannel.start()\n",
    "dma.recvchannel.start()\n",
    "print(frames)\n",
    "print(vid.isOpened())\n",
    "t = time.time()\n",
    "try:\n",
    "    while(True):\n",
    "        t1 = time.time()\n",
    "        xlnk.cma_memcopy(in_buffer, vid.read()[1],916200)\n",
    "        dma.sendchannel.transfer(in_buffer)\n",
    "        dma.recvchannel.transfer(out_buffer) \n",
    "        dma.recvchannel.wait()\n",
    "        out.write(out_buffer)\n",
    "        frames = frames + 1\n",
    "        print(time.time() - t1)\n",
    "\n",
    "except Exception as e: \n",
    "    print(e)\n",
    "finalt = time.time() - t\n",
    "print(finalt)"
   ]
  },
  {
   "cell_type": "code",
   "execution_count": 50,
   "metadata": {},
   "outputs": [
    {
     "name": "stdout",
     "output_type": "stream",
     "text": [
      "0.0013206005096435547\n"
     ]
    }
   ],
   "source": [
    "    t = time.time()\n",
    "    dma.sendchannel.transfer(in_buffer)\n",
    "    dma.recvchannel.transfer(out_buffer)\n",
    "    finalt = time.time() - t\n",
    "    print(finalt)"
   ]
  },
  {
   "cell_type": "code",
   "execution_count": 35,
   "metadata": {},
   "outputs": [
    {
     "data": {
      "text/plain": [
       "16.004687307265325"
      ]
     },
     "execution_count": 35,
     "metadata": {},
     "output_type": "execute_result"
    }
   ],
   "source": [
    "t = time.time()"
   ]
  },
  {
   "cell_type": "code",
   "execution_count": 17,
   "metadata": {},
   "outputs": [
    {
     "name": "stdout",
     "output_type": "stream",
     "text": [
      "96.33941292762756\n"
     ]
    }
   ],
   "source": [
    "vid.release()\n",
    "out.release()\n",
    "print(finalt)"
   ]
  },
  {
   "cell_type": "code",
   "execution_count": 5,
   "metadata": {},
   "outputs": [],
   "source": [
    "dma.sendchannel.stop()\n",
    "dma.recvchannel.stop()"
   ]
  }
 ],
 "metadata": {
  "kernelspec": {
   "display_name": "Python 3",
   "language": "python",
   "name": "python3"
  },
  "language_info": {
   "codemirror_mode": {
    "name": "ipython",
    "version": 3
   },
   "file_extension": ".py",
   "mimetype": "text/x-python",
   "name": "python",
   "nbconvert_exporter": "python",
   "pygments_lexer": "ipython3",
   "version": "3.6.5"
  }
 },
 "nbformat": 4,
 "nbformat_minor": 2
}
