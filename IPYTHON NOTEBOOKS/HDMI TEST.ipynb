{
 "cells": [
  {
   "cell_type": "code",
   "execution_count": 13,
   "metadata": {},
   "outputs": [
    {
     "name": "stderr",
     "output_type": "stream",
     "text": [
      "/usr/local/lib/python3.6/dist-packages/pynq/overlay.py:299: UserWarning: Users will not get PARAMETERS / REGISTERS information through TCL files. HWH file is recommended.\n",
      "  warnings.warn(message, UserWarning)\n"
     ]
    }
   ],
   "source": [
    "from pynq import Overlay\n",
    "from pynq.lib.video import *\n",
    "\n",
    "base = Overlay(\"sobel6.bit\")\n",
    "hdmi_in = base.video.hdmi_in\n",
    "#hdmi_out = base.video.hdmi_out\n",
    "#only sobel working sobel6.bit\n",
    "#partial canny working fullsobel7.bit "
   ]
  },
  {
   "cell_type": "code",
   "execution_count": 3,
   "metadata": {},
   "outputs": [],
   "source": [
    "hdmi_in.configure()\n",
    "hdmi_in.start()\n",
    "hdmi_out = base.video.hdmi_out\n",
    "hdmi_out.configure(hdmi_in.mode)\n",
    "hdmi_out.start()\n",
    "hdmi_in.tie(hdmi_out)"
   ]
  },
  {
   "cell_type": "code",
   "execution_count": 23,
   "metadata": {},
   "outputs": [
    {
     "data": {
      "text/plain": [
       "VideoMode: width=1280 height=720 bpp=24"
      ]
     },
     "execution_count": 23,
     "metadata": {},
     "output_type": "execute_result"
    }
   ],
   "source": [
    "hdmi_in.mode"
   ]
  },
  {
   "cell_type": "code",
   "execution_count": 14,
   "metadata": {},
   "outputs": [],
   "source": [
    "hdmi_in.configure(PIXEL_RGB)\n",
    "hdmi_in.start()\n",
    "hdmi_out = base.video.hdmi_out\n",
    "hdmi_out.configure(hdmi_in.mode)\n",
    "hdmi_out.start()\n",
    "colorspace_in = base.video.hdmi_in.color_convert\n",
    "colorspace_out = base.video.hdmi_out.color_convert\n",
    "\n",
    "bgr2rgb = [0, 0, 1,\n",
    "           0, 1, 0, \n",
    "           1, 0, 0,\n",
    "           0, 0, 0]\n",
    "\n",
    "out =     [0, 0, 1,\n",
    "           0, 1, 0, \n",
    "           1, 0, 0,\n",
    "           0, 0, 0]\n",
    "\n",
    "\n",
    "\n",
    "colorspace_in.colorspace = bgr2rgb\n",
    "colorspace_out.colorspace = out"
   ]
  },
  {
   "cell_type": "code",
   "execution_count": 15,
   "metadata": {},
   "outputs": [],
   "source": [
    "hdmi_in.tie(hdmi_out)"
   ]
  },
  {
   "cell_type": "code",
   "execution_count": 2,
   "metadata": {},
   "outputs": [
    {
     "data": {
      "text/plain": [
       "<contextlib._GeneratorContextManager at 0xae55ac10>"
      ]
     },
     "execution_count": 2,
     "metadata": {},
     "output_type": "execute_result"
    }
   ],
   "source": [
    "pixel_in = base.video.hdmi_in.pixel_pack\n",
    "pixel_in.bits_per_pixel = 8\n",
    "hdmi_in.configure(pynq.lib.video.PIXEL_GRAY)\n",
    "#hdmi_in._pixel.bits_per_pixel =32\n",
    "#hdmi_in._hdmi.start()\n",
    "#dir(hdmi_in)\n",
    "#hdmi_out.start()\n",
    "#hdmi_in.start()"
   ]
  },
  {
   "cell_type": "code",
   "execution_count": 3,
   "metadata": {},
   "outputs": [],
   "source": [
    "vdma = hdmi_in._vdma"
   ]
  },
  {
   "cell_type": "code",
   "execution_count": 170,
   "metadata": {},
   "outputs": [
    {
     "name": "stdout",
     "output_type": "stream",
     "text": [
      "8\n"
     ]
    },
    {
     "data": {
      "text/plain": [
       "property"
      ]
     },
     "execution_count": 170,
     "metadata": {},
     "output_type": "execute_result"
    }
   ],
   "source": [
    "dir(hdmi_in)\n",
    "print(hdmi_in.pixel_pack.bits_per_pixel)\n",
    "#help(hdmi_in._vdma.readchannel)\n",
    "#print(hdmi_in.color_convert.colorspace)\n",
    "#print(hdmi_in.colorspace)\n",
    "#help(hdmi_in._vdma.S2MMChannel)\n",
    "type(hdmi_in._vdma.S2MMChannel.mode)"
   ]
  },
  {
   "cell_type": "code",
   "execution_count": 76,
   "metadata": {},
   "outputs": [
    {
     "name": "stdout",
     "output_type": "stream",
     "text": [
      "<pynq.lib.video.dvi.HDMIInFrontend object at 0xae47c070>\n",
      "VideoMode: width=1280 height=720 bpp=24\n"
     ]
    }
   ],
   "source": [
    "print(hdmi_in._hdmi)\n",
    "#help(hdmi_in._hdmi)\n",
    "#hdmi_in.frontend.mode = VideoMode(720, 1280, 8)\n",
    "print(hdmi_in.frontend.mode)"
   ]
  },
  {
   "cell_type": "code",
   "execution_count": 4,
   "metadata": {},
   "outputs": [],
   "source": [
    "vdma.readchannel.stop()\n",
    "vdma.readchannel.mode = VideoMode(1280,720,8,25, stride=1280)\n",
    "vdma.readchannel.start()"
   ]
  },
  {
   "cell_type": "code",
   "execution_count": 22,
   "metadata": {},
   "outputs": [
    {
     "data": {
      "text/plain": [
       "<matplotlib.image.AxesImage at 0xabd80b50>"
      ]
     },
     "execution_count": 22,
     "metadata": {},
     "output_type": "execute_result"
    },
    {
     "data": {
      "image/png": "[encoded data removed]",
      "text/plain": [
       "<matplotlib.figure.Figure at 0xac2529d0>"
      ]
     },
     "metadata": {},
     "output_type": "display_data"
    }
   ],
   "source": [
    "import matplotlib.pyplot as plt\n",
    "plt.imshow(fr)"
   ]
  },
  {
   "cell_type": "code",
   "execution_count": 21,
   "metadata": {},
   "outputs": [
    {
     "name": "stdout",
     "output_type": "stream",
     "text": [
      "0.009518146514892578\n"
     ]
    }
   ],
   "source": [
    "import time\n",
    "t = time.time()\n",
    "hdmi_in.readframe()\n",
    "print(time.time() - t)"
   ]
  },
  {
   "cell_type": "code",
   "execution_count": 22,
   "metadata": {},
   "outputs": [],
   "source": [
    "hdmi_in.stop()\n",
    "hdmi_out.stop()"
   ]
  },
  {
   "cell_type": "code",
   "execution_count": 22,
   "metadata": {
    "scrolled": true
   },
   "outputs": [
    {
     "data": {
      "text/plain": [
       "0"
      ]
     },
     "execution_count": 22,
     "metadata": {},
     "output_type": "execute_result"
    }
   ],
   "source": [
    "fr[5][0]"
   ]
  },
  {
   "cell_type": "code",
   "execution_count": 28,
   "metadata": {},
   "outputs": [
    {
     "data": {
      "text/plain": [
       "True"
      ]
     },
     "execution_count": 28,
     "metadata": {},
     "output_type": "execute_result"
    }
   ],
   "source": [
    "import cv2\n",
    "cv2.imwrite('hdm.png', fr)"
   ]
  },
  {
   "cell_type": "code",
   "execution_count": 143,
   "metadata": {},
   "outputs": [
    {
     "name": "stdout",
     "output_type": "stream",
     "text": [
      "VideoMode: width=1280 height=720 bpp=8\n",
      "Help on method read in module pynq.overlay:\n",
      "\n",
      "read(offset=0) method of pynq.lib.video.dma.AxiVDMA instance\n",
      "    Read from the MMIO device\n",
      "    \n",
      "    Parameters\n",
      "    ----------\n",
      "    offset : int\n",
      "        Address to read\n",
      "\n"
     ]
    }
   ],
   "source": [
    "hdmi_in._vdma.readchannel.mode = VideoMode(1280,720,8,25)\n",
    "hdmi_in._vdma.readchannel.start()\n"
   ]
  },
  {
   "cell_type": "code",
   "execution_count": 229,
   "metadata": {},
   "outputs": [
    {
     "data": {
      "text/plain": [
       "ContiguousArray([ 61,  61, 123, 122, 122, 123, 124, 123, 122, 123], dtype=uint8)"
      ]
     },
     "execution_count": 229,
     "metadata": {},
     "output_type": "execute_result"
    }
   ],
   "source": [
    "fr[0][0:10]"
   ]
  },
  {
   "cell_type": "code",
   "execution_count": 22,
   "metadata": {},
   "outputs": [
    {
     "name": "stdout",
     "output_type": "stream",
     "text": [
      "RegisterMap {\n",
      "  a = Register(a=500)\n",
      "}\n"
     ]
    }
   ],
   "source": [
    "vid = base.video.hdmi_in.split_ip_0\n",
    "vid.register_map.a = 500\n",
    "#vid1 = base.video.apply_0\n",
    "#vid.register_map.cnt = 0;\n",
    "print(vid.register_map)\n",
    "#print(vid1.register_map)"
   ]
  },
  {
   "cell_type": "code",
   "execution_count": 21,
   "metadata": {},
   "outputs": [
    {
     "data": {
      "text/plain": [
       "RegisterMap {\n",
       "  a = Register(a=1280)\n",
       "}"
      ]
     },
     "execution_count": 21,
     "metadata": {},
     "output_type": "execute_result"
    }
   ],
   "source": [
    "vid.register_map"
   ]
  },
  {
   "cell_type": "code",
   "execution_count": 11,
   "metadata": {},
   "outputs": [],
   "source": [
    "hdmi_out = base.video.hdmi_out\n",
    "pixel_in = base.video.hdmi_in.pixel_pack\n",
    "pixel_in.bits_per_pixel = 8\n",
    "hdmi_in = base.video.hdmi_in\n",
    "hdmi_in.configure(pynq.lib.video.PIXEL_GRAY)\n",
    "hdmi_out.configure(VideoMode(1280,720,8,10))\n",
    "hdmi_in.start()\n",
    "hdmi_out.start()\n",
    "#hdmi_out.writeframe(fr)\n",
    "hdmi_in.tie(hdmi_out)"
   ]
  },
  {
   "cell_type": "code",
   "execution_count": null,
   "metadata": {},
   "outputs": [],
   "source": [
    "hdmi_in.configure()\n",
    "hdmi_in.start()\n",
    "hdmi_out.configure(hdmi_in.mode)\n",
    "hdmi_out.start()\n",
    "hdmi_in.tie(hdmi_out)"
   ]
  },
  {
   "cell_type": "code",
   "execution_count": 8,
   "metadata": {},
   "outputs": [
    {
     "data": {
      "text/plain": [
       "500"
      ]
     },
     "execution_count": 8,
     "metadata": {},
     "output_type": "execute_result"
    }
   ],
   "source": [
    "from pynq import MMIO\n",
    "sobel_ip = MMIO(0x43C00000,0x10000)\n",
    "i = 0\n",
    "#while(True):\n",
    "sobel_ip.write(0x10,500)\n",
    "i = i+1\n",
    "#    time.sleep(0.01)\n",
    "sobel_ip.read(0x10)"
   ]
  },
  {
   "cell_type": "code",
   "execution_count": 11,
   "metadata": {},
   "outputs": [],
   "source": [
    "leds = base.leds_gpio.channel1\n",
    "leds.setdirection('out')\n",
    "leds.setlength(4)\n",
    "leds[0].on()"
   ]
  },
  {
   "cell_type": "code",
   "execution_count": 10,
   "metadata": {},
   "outputs": [
    {
     "data": {
      "text/plain": [
       "VideoMode: width=1280 height=720 bpp=24"
      ]
     },
     "execution_count": 10,
     "metadata": {},
     "output_type": "execute_result"
    }
   ],
   "source": [
    "hdmi_out.mode"
   ]
  }
 ],
 "metadata": {
  "kernelspec": {
   "display_name": "Python 3",
   "language": "python",
   "name": "python3"
  },
  "language_info": {
   "codemirror_mode": {
    "name": "ipython",
    "version": 3
   },
   "file_extension": ".py",
   "mimetype": "text/x-python",
   "name": "python",
   "nbconvert_exporter": "python",
   "pygments_lexer": "ipython3",
   "version": "3.6.5"
  }
 },
 "nbformat": 4,
 "nbformat_minor": 2
}
